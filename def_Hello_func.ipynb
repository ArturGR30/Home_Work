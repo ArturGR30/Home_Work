{
 "cells": [
  {
   "cell_type": "code",
   "execution_count": 6,
   "metadata": {},
   "outputs": [],
   "source": [
    "def hi( lang, name ):\n",
    "    if lang == \"en\":\n",
    "        print(\"Hello\", name)\n",
    "    elif lang == \"ru\":\n",
    "        print(\"Приет\", name)\n",
    "    elif lang == \"ro\":\n",
    "        print(\"Salut\", name)\n",
    "    else:\n",
    "        print(\"ERROR (lang) is not recognized!!!\") "
   ]
  },
  {
   "cell_type": "markdown",
   "metadata": {},
   "source": [
    "User"
   ]
  },
  {
   "cell_type": "code",
   "execution_count": 12,
   "metadata": {},
   "outputs": [
    {
     "name": "stdout",
     "output_type": "stream",
     "text": [
      "Hello Jhon\n",
      "Приет Vanea\n",
      "Salut Ion\n",
      "ERROR (lang) is not recognized!!!\n"
     ]
    }
   ],
   "source": [
    "hi(\"en\", \"Jhon\" )\n",
    "hi(\"ru\", \"Vanea\")\n",
    "hi(\"ro\", \"Ion\")\n",
    "hi(\"ua\", \"MIkola\")"
   ]
  }
 ],
 "metadata": {
  "interpreter": {
   "hash": "0a94ad4973d52bec6ce1243c28fe3b2c22635921be92d6a0f6f5a18b0386fae2"
  },
  "kernelspec": {
   "display_name": "Python 3.8.9 32-bit",
   "language": "python",
   "name": "python3"
  },
  "language_info": {
   "codemirror_mode": {
    "name": "ipython",
    "version": 3
   },
   "file_extension": ".py",
   "mimetype": "text/x-python",
   "name": "python",
   "nbconvert_exporter": "python",
   "pygments_lexer": "ipython3",
   "version": "3.8.9"
  },
  "orig_nbformat": 4
 },
 "nbformat": 4,
 "nbformat_minor": 2
}
