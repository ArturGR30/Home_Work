{
 "cells": [
  {
   "cell_type": "code",
   "execution_count": 3,
   "metadata": {},
   "outputs": [],
   "source": [
    "# HW1. Calculate balance for 3 months\n",
    "money = {\n",
    "    \"Jan\": {\n",
    "        \"salary\":  1500,\n",
    "        \"expence\": 500\n",
    "    },\n",
    "    \"Feb\": {\n",
    "        \"salary\":  1200,\n",
    "        \"expence\": 1700\n",
    "    },\n",
    "    \"Mar\": {\n",
    "        \"salary\":  1700,\n",
    "        \"expence\": 700\n",
    "    }\n",
    "\n",
    "}"
   ]
  },
  {
   "cell_type": "code",
   "execution_count": 25,
   "metadata": {},
   "outputs": [
    {
     "name": "stdout",
     "output_type": "stream",
     "text": [
      "Balance for  Jan 1000\n",
      "Balance for  Feb -500\n",
      "Balance for  Mar 1000\n"
     ]
    }
   ],
   "source": [
    "for i in money:\n",
    "    money[i][\"balance\"] = money[i][\"salary\"] - money[i][\"expence\"]\n",
    "    print(\"Balance for \", i, money[i][\"balance\"])"
   ]
  }
 ],
 "metadata": {
  "interpreter": {
   "hash": "0a94ad4973d52bec6ce1243c28fe3b2c22635921be92d6a0f6f5a18b0386fae2"
  },
  "kernelspec": {
   "display_name": "Python 3.8.9 32-bit",
   "language": "python",
   "name": "python3"
  },
  "language_info": {
   "codemirror_mode": {
    "name": "ipython",
    "version": 3
   },
   "file_extension": ".py",
   "mimetype": "text/x-python",
   "name": "python",
   "nbconvert_exporter": "python",
   "pygments_lexer": "ipython3",
   "version": "3.8.9"
  },
  "orig_nbformat": 4
 },
 "nbformat": 4,
 "nbformat_minor": 2
}
